{
 "cells": [
  {
   "cell_type": "code",
   "execution_count": 34,
   "metadata": {},
   "outputs": [],
   "source": [
    "# Python code written for Medium publication - MCD - UNISON (Dec, 2023).\n",
    "# By: Viowi Y. Cabrisas Amuedo.\n",
    "\n",
    "from sklearn.metrics import confusion_matrix\n",
    "import numpy as np\n",
    "import matplotlib.pyplot as plt\n",
    "import seaborn as sns\n",
    "import pandas as pd"
   ]
  },
  {
   "cell_type": "code",
   "execution_count": 35,
   "metadata": {},
   "outputs": [
    {
     "name": "stdout",
     "output_type": "stream",
     "text": [
      "Confusion Matrix:\n",
      "[[3 5 4 3 7]\n",
      " [5 4 4 7 5]\n",
      " [3 2 4 6 4]\n",
      " [8 1 1 4 3]\n",
      " [4 6 2 1 4]]\n"
     ]
    }
   ],
   "source": [
    "# Generate example data\n",
    "np.random.seed(3383)\n",
    "y_true = np.random.randint(5, size=100)  # Real classes\n",
    "y_pred = np.random.randint(5, size=100)  # Classes predicted by the model\n",
    "\n",
    "classif = [1, 2, 3, 4, 5]\n",
    "\n",
    "# Calculate the confusion matrix\n",
    "conf_matrix = confusion_matrix(y_true, y_pred)\n",
    "\n",
    "# Print the confusion matrix\n",
    "print(\"Confusion Matrix:\")\n",
    "print(conf_matrix)"
   ]
  },
  {
   "cell_type": "code",
   "execution_count": 36,
   "metadata": {},
   "outputs": [
    {
     "data": {
      "image/png": "[encoded data removed]",
      "text/plain": [
       "<Figure size 500x400 with 2 Axes>"
      ]
     },
     "metadata": {},
     "output_type": "display_data"
    }
   ],
   "source": [
    "# Graphing the Confusion Matrix...\n",
    "conf_matrix_df = pd.DataFrame(conf_matrix,\n",
    "                     index = classif, \n",
    "                     columns = classif)\n",
    "\n",
    "plt.figure(figsize=(5,4))\n",
    "sns.heatmap(conf_matrix_df, annot=True)\n",
    "plt.title('Confusion Matrix for a Multiclass Classifier')\n",
    "plt.ylabel('Real')\n",
    "plt.xlabel('Predicted')\n",
    "plt.show()"
   ]
  },
  {
   "cell_type": "code",
   "execution_count": 37,
   "metadata": {},
   "outputs": [
    {
     "data": {
      "text/html": [
       "<div>\n",
       "<style scoped>\n",
       "    .dataframe tbody tr th:only-of-type {\n",
       "        vertical-align: middle;\n",
       "    }\n",
       "\n",
       "    .dataframe tbody tr th {\n",
       "        vertical-align: top;\n",
       "    }\n",
       "\n",
       "    .dataframe thead th {\n",
       "        text-align: right;\n",
       "    }\n",
       "</style>\n",
       "<table border=\"1\" class=\"dataframe\">\n",
       "  <thead>\n",
       "    <tr style=\"text-align: right;\">\n",
       "      <th></th>\n",
       "      <th>Precision</th>\n",
       "      <th>Accuracy</th>\n",
       "      <th>Specificity</th>\n",
       "      <th>Sensitivity</th>\n",
       "      <th>F1 Score</th>\n",
       "    </tr>\n",
       "  </thead>\n",
       "  <tbody>\n",
       "    <tr>\n",
       "      <th>1</th>\n",
       "      <td>13.04</td>\n",
       "      <td>61.0</td>\n",
       "      <td>74.36</td>\n",
       "      <td>13.64</td>\n",
       "      <td>13.33</td>\n",
       "    </tr>\n",
       "    <tr>\n",
       "      <th>2</th>\n",
       "      <td>22.22</td>\n",
       "      <td>65.0</td>\n",
       "      <td>81.33</td>\n",
       "      <td>16.00</td>\n",
       "      <td>18.60</td>\n",
       "    </tr>\n",
       "    <tr>\n",
       "      <th>3</th>\n",
       "      <td>26.67</td>\n",
       "      <td>74.0</td>\n",
       "      <td>86.42</td>\n",
       "      <td>21.05</td>\n",
       "      <td>23.53</td>\n",
       "    </tr>\n",
       "    <tr>\n",
       "      <th>4</th>\n",
       "      <td>19.05</td>\n",
       "      <td>70.0</td>\n",
       "      <td>79.52</td>\n",
       "      <td>23.53</td>\n",
       "      <td>21.05</td>\n",
       "    </tr>\n",
       "    <tr>\n",
       "      <th>5</th>\n",
       "      <td>17.39</td>\n",
       "      <td>68.0</td>\n",
       "      <td>77.11</td>\n",
       "      <td>23.53</td>\n",
       "      <td>20.00</td>\n",
       "    </tr>\n",
       "    <tr>\n",
       "      <th>Average</th>\n",
       "      <td>19.67</td>\n",
       "      <td>67.6</td>\n",
       "      <td>79.75</td>\n",
       "      <td>19.55</td>\n",
       "      <td>19.30</td>\n",
       "    </tr>\n",
       "  </tbody>\n",
       "</table>\n",
       "</div>"
      ],
      "text/plain": [
       "         Precision  Accuracy  Specificity  Sensitivity  F1 Score\n",
       "1            13.04      61.0        74.36        13.64     13.33\n",
       "2            22.22      65.0        81.33        16.00     18.60\n",
       "3            26.67      74.0        86.42        21.05     23.53\n",
       "4            19.05      70.0        79.52        23.53     21.05\n",
       "5            17.39      68.0        77.11        23.53     20.00\n",
       "Average      19.67      67.6        79.75        19.55     19.30"
      ]
     },
     "execution_count": 37,
     "metadata": {},
     "output_type": "execute_result"
    }
   ],
   "source": [
    "\"\"\"\n",
    "Parameters that make up the confusion matrix:\n",
    "tp -> True Positives.\n",
    "tn -> True Negatives.\n",
    "fp -> False Positives.\n",
    "fn -> False Negatives.\n",
    "\n",
    "# Metrics:\n",
    "precision = tp / (tp + fp)\n",
    "accuracy = (tp + tn) / (tp + tn + fp + fn)\n",
    "specificity = tn / (tn + fp)\n",
    "sensitivity = tp / (tp + fn)\n",
    "f1score = (2 * precision * sensitivity) / (precision + sensitivity)\n",
    "\n",
    "# Multiply by 100 and round...\n",
    "\"\"\"\n",
    "\n",
    "classes = len(classif)\n",
    "metrics_by_classes = {}\n",
    "\n",
    "def metrics(tp, tn, fp, fn):\n",
    "    precision = round((tp / (tp + fp)) * 100, 2) if tp != 0 and fp != 0 else 0.0\n",
    "    accuracy = round(((tp + tn) / (tp + tn + fp + fn)) * 100, 2) if tp != 0 and fp != 0 and tn != 0 and fn != 0 else 0.0\n",
    "    specificity = round((tn / (tn + fp)) * 100, 2) if tn != 0 and fp != 0 else 0.0\n",
    "    sensitivity = round((tp / (tp + fn)) * 100, 2) if tp != 0 and fn != 0 else 0.0\n",
    "    f1score = round(((2 * precision * sensitivity) / (precision + sensitivity)), 2) if precision != 0 and sensitivity != 0 else 0.0\n",
    "    return [precision, accuracy, specificity, sensitivity, f1score]\n",
    "\n",
    "# Calculation of metrics for each class:\n",
    "for k in range(classes):\n",
    "    #key = str(quality[k])\n",
    "    key = classif[k]\n",
    "    tp, fp, tn, fn = 0, 0, 0, 0\n",
    "    tp = conf_matrix[k, k]\n",
    "    for i in range(classes):\n",
    "        for j in range(classes):\n",
    "            if i != k and j != k:\n",
    "                tn += conf_matrix[i, j]\n",
    "            if i == k and j != k:\n",
    "                fn += conf_matrix[i, j]\n",
    "            if i != k and j == k:\n",
    "                fp += conf_matrix[i, j]\n",
    "    metrics_by_classes[key] = metrics(tp, tn, fp, fn)\n",
    "\n",
    "metrics_list = [\"Precision\", \"Accuracy\", \"Specificity\", \"Sensitivity\", \"F1 Score\"]\n",
    "\n",
    "metrics_classes_df = pd.DataFrame(metrics_by_classes, index=metrics_list)\n",
    "metrics_classes_df = metrics_classes_df.transpose().sort_index()\n",
    "\n",
    "# Calculating the averages of the metrics for each class\n",
    "averages = [round(metrics_classes_df[column].mean(), 2) for column in metrics_classes_df.columns]\n",
    "averages_df = pd.DataFrame({\"Average\": averages}, index=metrics_list)\n",
    "averages_df = averages_df.transpose()\n",
    "\n",
    "final_metrics_df = pd.concat([metrics_classes_df, averages_df])\n",
    "final_metrics_df"
   ]
  }
 ],
 "metadata": {
  "kernelspec": {
   "display_name": "base",
   "language": "python",
   "name": "python3"
  },
  "language_info": {
   "codemirror_mode": {
    "name": "ipython",
    "version": 3
   },
   "file_extension": ".py",
   "mimetype": "text/x-python",
   "name": "python",
   "nbconvert_exporter": "python",
   "pygments_lexer": "ipython3",
   "version": "3.11.3"
  },
  "orig_nbformat": 4
 },
 "nbformat": 4,
 "nbformat_minor": 2
}
